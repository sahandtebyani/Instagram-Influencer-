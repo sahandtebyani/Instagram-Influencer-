{
  "nbformat": 4,
  "nbformat_minor": 0,
  "metadata": {
    "colab": {
      "provenance": [],
      "mount_file_id": "1HZjoCN-Rku-Ie42ARGPIQE4ArCEuqIkL",
      "authorship_tag": "ABX9TyOhx/pTI7lHBcxfTa8mluNA",
      "include_colab_link": true
    },
    "kernelspec": {
      "name": "python3",
      "display_name": "Python 3"
    },
    "language_info": {
      "name": "python"
    }
  },
  "cells": [
    {
      "cell_type": "markdown",
      "metadata": {
        "id": "view-in-github",
        "colab_type": "text"
      },
      "source": [
        "<a href=\"https://colab.research.google.com/github/sahandtebyani/Instagram-Influencer-/blob/main/Video_Padder.ipynb\" target=\"_parent\"><img src=\"https://colab.research.google.com/assets/colab-badge.svg\" alt=\"Open In Colab\"/></a>"
      ]
    },
    {
      "cell_type": "code",
      "source": [
        "import cv2\n",
        "import os\n",
        "\n",
        "def resize_video_with_padding(video_path, output_path, target_size=(224, 224)):\n",
        "    # Open the input video\n",
        "    cap = cv2.VideoCapture(video_path)\n",
        "    if not cap.isOpened():\n",
        "        print(f\"Error: Unable to open video file {video_path}\")\n",
        "        return False\n",
        "\n",
        "    # Get video properties\n",
        "    fps = int(cap.get(cv2.CAP_PROP_FPS))\n",
        "    print(f\"Processing video: {video_path} | FPS: {fps}\")\n",
        "\n",
        "    # Define the output video writer\n",
        "    fourcc = cv2.VideoWriter_fourcc(*'mp4v')  # Codec for .mp4 format\n",
        "    out = cv2.VideoWriter(output_path, fourcc, fps, target_size)\n",
        "\n",
        "    # Process each frame\n",
        "    while True:\n",
        "        ret, frame = cap.read()\n",
        "        if not ret:  # No more frames to process\n",
        "            break\n",
        "\n",
        "        # Resize the frame while maintaining the aspect ratio\n",
        "        h, w, _ = frame.shape\n",
        "        scale = min(target_size[0] / h, target_size[1] / w)\n",
        "        new_w = int(w * scale)\n",
        "        new_h = int(h * scale)\n",
        "        resized_frame = cv2.resize(frame, (new_w, new_h))\n",
        "\n",
        "        # Add padding to match the target size\n",
        "        top_padding = (target_size[1] - new_h) // 2\n",
        "        bottom_padding = target_size[1] - new_h - top_padding\n",
        "        left_padding = (target_size[0] - new_w) // 2\n",
        "        right_padding = target_size[0] - new_w - left_padding\n",
        "\n",
        "        padded_frame = cv2.copyMakeBorder(\n",
        "            resized_frame,\n",
        "            top=top_padding,\n",
        "            bottom=bottom_padding,\n",
        "            left=left_padding,\n",
        "            right=right_padding,\n",
        "            borderType=cv2.BORDER_CONSTANT,\n",
        "            value=(0, 0, 0)  # Black padding\n",
        "        )\n",
        "\n",
        "        # Write the processed frame to the output video\n",
        "        out.write(padded_frame)\n",
        "\n",
        "    # Release resources\n",
        "    cap.release()\n",
        "    out.release()\n",
        "    print(f\"Resized video saved to {output_path}\")\n",
        "    return True\n",
        "\n",
        "\n",
        "def process_videos_in_folder(input_folder, target_size=(224, 224)):\n",
        "    # Create an output folder\n",
        "    output_folder = os.path.join(input_folder, \"resized_videos\")\n",
        "    os.makedirs(output_folder, exist_ok=True)\n",
        "\n",
        "    # Process all video files in the folder\n",
        "    for filename in os.listdir(input_folder):\n",
        "        if filename.endswith(('.mp4', '.avi', '.mov', '.mkv')):  # Add more extensions if needed\n",
        "            input_path = os.path.join(input_folder, filename)\n",
        "            output_path = os.path.join(output_folder, filename)\n",
        "\n",
        "            # Resize and save the video\n",
        "            success = resize_video_with_padding(input_path, output_path, target_size)\n",
        "            if not success:\n",
        "                print(f\"Failed to process {filename}\")\n",
        "    print(f\"All videos have been processed. Resized videos are saved in {output_folder}\")\n",
        "\n",
        "\n",
        "# Example usage\n",
        "input_folder = \"/content/drive/**********\"  # Replace with the path to your folder\n",
        "process_videos_in_folder(input_folder, target_size=(224, 224))"
      ],
      "metadata": {
        "id": "sMPQVXVQnwcW"
      },
      "execution_count": null,
      "outputs": []
    }
  ]
}