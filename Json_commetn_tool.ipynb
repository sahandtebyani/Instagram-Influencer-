{
  "nbformat": 4,
  "nbformat_minor": 0,
  "metadata": {
    "colab": {
      "provenance": [],
      "authorship_tag": "ABX9TyOu3SZCfmM7GCeySt8j2597",
      "include_colab_link": true
    },
    "kernelspec": {
      "name": "python3",
      "display_name": "Python 3"
    },
    "language_info": {
      "name": "python"
    }
  },
  "cells": [
    {
      "cell_type": "markdown",
      "metadata": {
        "id": "view-in-github",
        "colab_type": "text"
      },
      "source": [
        "<a href=\"https://colab.research.google.com/github/sahandtebyani/Instagram-Influencer-/blob/main/Json_commetn_tool.ipynb\" target=\"_parent\"><img src=\"https://colab.research.google.com/assets/colab-badge.svg\" alt=\"Open In Colab\"/></a>"
      ]
    },
    {
      "cell_type": "code",
      "execution_count": null,
      "metadata": {
        "colab": {
          "base_uri": "https://localhost:8080/"
        },
        "id": "GzpPwawTkVy_",
        "outputId": "e487e320-6633-406a-c25d-b34d6aab7e4d"
      },
      "outputs": [
        {
          "output_type": "stream",
          "name": "stdout",
          "text": [
            "Extracted 171 unique 'text' fields from all files in /content/json\n",
            "Results saved to unique_texts.json\n"
          ]
        }
      ],
      "source": [
        "import os\n",
        "import json\n",
        "\n",
        "def extract_text_fields(data):\n",
        "    \"\"\"\n",
        "    Recursively extracts all \"text\" fields from a JSON structure.\n",
        "\n",
        "    Args:\n",
        "        data (dict or list): The JSON structure (can be a dict or list).\n",
        "\n",
        "    Returns:\n",
        "        set: A set of unique \"text\" field values.\n",
        "    \"\"\"\n",
        "    text_fields = set()\n",
        "\n",
        "    if isinstance(data, dict):\n",
        "        for key, value in data.items():\n",
        "            if key == \"text\" and isinstance(value, str):\n",
        "                text_fields.add(value)\n",
        "            elif isinstance(value, (dict, list)):\n",
        "                text_fields.update(extract_text_fields(value))\n",
        "    elif isinstance(data, list):\n",
        "        for item in data:\n",
        "            text_fields.update(extract_text_fields(item))\n",
        "\n",
        "    return text_fields\n",
        "\n",
        "\n",
        "def mix_and_extract_texts(input_folder, output_file):\n",
        "    \"\"\"\n",
        "    Mixes all JSON files in a folder, extracts \"text\" fields, removes duplicates,\n",
        "    and saves the results to a new JSON file.\n",
        "\n",
        "    Args:\n",
        "        input_folder (str): Path to the folder containing JSON files.\n",
        "        output_file (str): Path to the output JSON file.\n",
        "    \"\"\"\n",
        "    all_texts = set()\n",
        "\n",
        "    # Iterate through all JSON files in the input folder\n",
        "    for filename in os.listdir(input_folder):\n",
        "        if filename.endswith(\".json\"):  # Only process JSON files\n",
        "            file_path = os.path.join(input_folder, filename)\n",
        "            try:\n",
        "                with open(file_path, \"r\", encoding=\"utf-8\") as f:\n",
        "                    data = json.load(f)\n",
        "                    all_texts.update(extract_text_fields(data))\n",
        "            except Exception as e:\n",
        "                print(f\"Error processing file {file_path}: {e}\")\n",
        "\n",
        "    # Save the unique \"text\" fields to the output file\n",
        "    with open(output_file, \"w\", encoding=\"utf-8\") as f:\n",
        "        json.dump(list(all_texts), f, indent=4, ensure_ascii=False)\n",
        "\n",
        "    print(f\"Extracted {len(all_texts)} unique 'text' fields from all files in {input_folder}\")\n",
        "    print(f\"Results saved to {output_file}\")\n",
        "\n",
        "\n",
        "# Example usage\n",
        "input_folder = \"/content/json\"  # Replace with the path to your JSON folder\n",
        "output_file = \"unique_texts.json\"  # Replace with the desired output file name\n",
        "mix_and_extract_texts(input_folder, output_file)\n"
      ]
    }
  ]
}