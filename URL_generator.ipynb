{
  "nbformat": 4,
  "nbformat_minor": 0,
  "metadata": {
    "colab": {
      "provenance": [],
      "mount_file_id": "1KV9IuuQj2V6mYJi33Vpvr8H25qvKORDr",
      "authorship_tag": "ABX9TyNrKQ9JiqRjxUjgMnTaVPqi",
      "include_colab_link": true
    },
    "kernelspec": {
      "name": "python3",
      "display_name": "Python 3"
    },
    "language_info": {
      "name": "python"
    }
  },
  "cells": [
    {
      "cell_type": "markdown",
      "metadata": {
        "id": "view-in-github",
        "colab_type": "text"
      },
      "source": [
        "<a href=\"https://colab.research.google.com/github/sahandtebyani/Instagram-Influencer-/blob/main/URL_generator.ipynb\" target=\"_parent\"><img src=\"https://colab.research.google.com/assets/colab-badge.svg\" alt=\"Open In Colab\"/></a>"
      ]
    },
    {
      "cell_type": "code",
      "source": [
        "from google.colab import drive\n",
        "import os\n",
        "\n",
        "# Step 1: Mount Google Drive\n",
        "drive.mount('/content/drive')\n",
        "\n",
        "# Step 2: Define the folder path (update the path based on your folder's location in Google Drive)\n",
        "folder_path = \"/content/drive/MyDrive/*********\"  # Replace with your folder path\n",
        "base_url = \"https://www.instagram.com/*******/reel/\"  # Replace with your base URL\n",
        "\n",
        "# Step 3: Generate post URLs\n",
        "def generate_post_urls(folder_path, base_url):\n",
        "    # List to store the generated post URLs\n",
        "    post_urls = []\n",
        "\n",
        "    # Iterate over the files in the specified folder\n",
        "    for file_name in os.listdir(folder_path):\n",
        "        # Only process valid files (ignore hidden/system files)\n",
        "        if file_name and not file_name.startswith(\".\"):\n",
        "            # Get the filename without the extension\n",
        "            file_name_without_extension = os.path.splitext(file_name)[0]\n",
        "            # Add the generated URL to the list\n",
        "            post_url = f\"{base_url}{file_name_without_extension}/\"\n",
        "            post_urls.append(post_url)\n",
        "\n",
        "    return post_urls\n",
        "\n",
        "# Step 4: Generate the URLs\n",
        "urls = generate_post_urls(folder_path, base_url)\n",
        "\n",
        "# Step 5: Print the list in the desired format\n",
        "print(\"post_urls = [\")\n",
        "for url in urls:\n",
        "    print(f'    \"{url}\",')\n",
        "print(\"]\")\n"
      ],
      "metadata": {
        "id": "tZO7fl0mJBiE"
      },
      "execution_count": null,
      "outputs": []
    }
  ]
}